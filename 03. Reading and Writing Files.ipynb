{
 "cells": [
  {
   "cell_type": "markdown",
   "metadata": {},
   "source": [
    "# ====================================================\n",
    "# Tools pada Python\n",
    "# ====================================================="
   ]
  },
  {
   "cell_type": "markdown",
   "metadata": {},
   "source": [
    "<h2>Daftar Isi</h2>\n",
    "<div class=\"alert alert-block alert-info\" style=\"margin-top: 20px\">\n",
    "    <ul>\n",
    "        <li><a href=\"read\">Reading Text Files</a></li>\n",
    "        <li><a href=\"write\">Writing Text Files</a></li>\n",
    "        <li><a href=\"copy\">Copy Text Files</a></li>\n",
    "    </ul>\n",
    "</div>\n",
    "\n",
    "<hr>"
   ]
  },
  {
   "cell_type": "markdown",
   "metadata": {},
   "source": [
    "## ==================================\n",
    "\n",
    "## Reading and Writing Files\n",
    "\n",
    "## =================================="
   ]
  },
  {
   "cell_type": "markdown",
   "metadata": {},
   "source": [
    "Reading and Writing Files digunakan untuk membaca dan menuliskan atau menambahkan pada suatu file yang sudah ada pada sistem komputer kita. Untuk membuka file tersebut digunakan operator <code>open()</code>.\n",
    "\n",
    "Bentuk:\n",
    "<img src=\"img/ReadOpen.png\" width=\"500\" />\n",
    "\n",
    "**File object** adalah variabel yang kita berikan kepada file tersebut.\n",
    "\n",
    "**File path** adalah letak file tersebut diletakkan.\n",
    "\n",
    "**File name** adalah nama file yang akan kita buka.\n",
    "\n",
    "**Mode** untuk membuka file yang dapat dilakukan yaitu:\n",
    "- r = read\n",
    "- rt = file yang sifatnya text\n",
    "- w = write\n",
    "- a = menambahkan baris baru atau sama dengan append\n",
    "\n",
    "Jika ingin membuka (open) sebuah file, jangan lupa untuk menutupnya (close). Karena jika tidak ditutup akan mengakibatkan file akan kosong. Hal ini dikarenakan file yang telah kita buka tersebut belum tertutup dan tersimpan dengan baik."
   ]
  },
  {
   "cell_type": "markdown",
   "metadata": {},
   "source": [
    "### 1. Reading Files"
   ]
  },
  {
   "cell_type": "markdown",
   "metadata": {},
   "source": [
    "**Open - Close**"
   ]
  },
  {
   "cell_type": "code",
   "execution_count": 1,
   "metadata": {
    "scrolled": true
   },
   "outputs": [
    {
     "name": "stdout",
     "output_type": "stream",
     "text": [
      "nama file : data/example1.txt\n",
      "mode file : r\n",
      "This is line 1 \n",
      "This is line 2\n",
      "This is line 3\n"
     ]
    }
   ],
   "source": [
    "# contoh membuka file dengan mode r\n",
    "example1 = \"data/example1.txt\"\n",
    "file1 = open(example1, \"r\")\n",
    "\n",
    "print(\"nama file : \" + file1.name)  #melihat nama file\n",
    "print(\"mode file : \" + file1.mode)  #melihat mode\n",
    "print(file1.read())                 #menampilkan file\n",
    "\n",
    "file1.close()                       #menutup file setelah selesai"
   ]
  },
  {
   "cell_type": "markdown",
   "metadata": {},
   "source": [
    "**With-as**"
   ]
  },
  {
   "cell_type": "markdown",
   "metadata": {},
   "source": [
    "Untuk membuka (open) file yang baik yaitu menggunakan <code>with - as</code>. Hal ini dikarenakan <code>with - as</code> dapat secara otomatis untuk membuka dan menutup sebuah file."
   ]
  },
  {
   "cell_type": "code",
   "execution_count": 2,
   "metadata": {
    "scrolled": true
   },
   "outputs": [
    {
     "name": "stdout",
     "output_type": "stream",
     "text": [
      "This is line 1 \n",
      "This is line 2\n",
      "This is line 3\n"
     ]
    }
   ],
   "source": [
    "#membuka file menggunakan with-as\n",
    "with open(example1, \"r\") as file1:\n",
    "    FileContent = file1.read()\n",
    "    print(FileContent)"
   ]
  },
  {
   "cell_type": "markdown",
   "metadata": {},
   "source": [
    "**Method <code>.read()</code>**"
   ]
  },
  {
   "cell_type": "markdown",
   "metadata": {},
   "source": [
    "Dengan <code>with - as</code> kita dapat membaca beberapa karakter yang kita inginkan pada sebuah file menggunakan <code>.read()</code>."
   ]
  },
  {
   "cell_type": "code",
   "execution_count": 3,
   "metadata": {
    "scrolled": true
   },
   "outputs": [
    {
     "name": "stdout",
     "output_type": "stream",
     "text": [
      "This\n"
     ]
    }
   ],
   "source": [
    "# membaca 4 karakter awal\n",
    "\n",
    "with open(example1, \"r\") as file1:\n",
    "    print(file1.read(4))"
   ]
  },
  {
   "cell_type": "markdown",
   "metadata": {},
   "source": [
    "Kita juga dapat membaca beberapa karakter. Misalnya kita menggunakan method <code>.read(4)</code> yaitu membaca 4 karakter pertama. Kemudian kita ingin membaca 4 karakter selanjutnya, maka kita menambahkan method <code>.read(4)</code> kembali. "
   ]
  },
  {
   "cell_type": "code",
   "execution_count": 4,
   "metadata": {},
   "outputs": [
    {
     "name": "stdout",
     "output_type": "stream",
     "text": [
      "This\n",
      " is \n",
      "line 1 \n",
      "\n",
      "This is line 2\n"
     ]
    }
   ],
   "source": [
    "# membaca beberapa karakter\n",
    "\n",
    "with open(example1, \"r\") as file1:\n",
    "    print(file1.read(4))\n",
    "    print(file1.read(4))\n",
    "    print(file1.read(7))\n",
    "    print(file1.read(15))"
   ]
  },
  {
   "cell_type": "markdown",
   "metadata": {},
   "source": [
    "Berikut ilustrasi cara membacanya yaitu\n",
    "\n",
    "<img src=\"img/ReadChar.png\" width=\"500\" />"
   ]
  },
  {
   "cell_type": "markdown",
   "metadata": {},
   "source": [
    "**Method <code>.readline()</code>**"
   ]
  },
  {
   "cell_type": "markdown",
   "metadata": {},
   "source": [
    "Method <code>.readline()</code> digunakan untuk membaca satu baris secara utuh."
   ]
  },
  {
   "cell_type": "code",
   "execution_count": 5,
   "metadata": {},
   "outputs": [
    {
     "name": "stdout",
     "output_type": "stream",
     "text": [
      "first line: This is line 1 \n",
      "\n"
     ]
    }
   ],
   "source": [
    "# membaca satu baris\n",
    "\n",
    "with open(example1, \"r\") as file1:\n",
    "    print(\"first line: \" + file1.readline())"
   ]
  },
  {
   "cell_type": "markdown",
   "metadata": {},
   "source": [
    "Membaca beberapa baris menggunakan loop dan method <code>.readline()</code>."
   ]
  },
  {
   "cell_type": "code",
   "execution_count": 6,
   "metadata": {
    "scrolled": true
   },
   "outputs": [
    {
     "name": "stdout",
     "output_type": "stream",
     "text": [
      "Iteration 0 :  This is line 1 \n",
      "\n",
      "Iteration 1 :  This is line 2\n",
      "\n",
      "Iteration 2 :  This is line 3\n"
     ]
    }
   ],
   "source": [
    "with open(example1,\"r\") as file1:\n",
    "        i = 0;\n",
    "        for line in file1:\n",
    "            print(\"Iteration\", str(i), \": \", line)\n",
    "            i = i + 1;"
   ]
  },
  {
   "cell_type": "markdown",
   "metadata": {},
   "source": [
    "Membaca satu baris kemudian menyimpannya menggunakan method <code>.readline()</code>."
   ]
  },
  {
   "cell_type": "code",
   "execution_count": 7,
   "metadata": {},
   "outputs": [],
   "source": [
    "# Read all lines and save as a list\n",
    "\n",
    "with open(example1, \"r\") as file1:\n",
    "    FileasList = file1.readlines()"
   ]
  },
  {
   "cell_type": "code",
   "execution_count": 8,
   "metadata": {},
   "outputs": [
    {
     "data": {
      "text/plain": [
       "'This is line 1 \\n'"
      ]
     },
     "execution_count": 8,
     "metadata": {},
     "output_type": "execute_result"
    }
   ],
   "source": [
    "# Print the first line\n",
    "\n",
    "FileasList[0]"
   ]
  },
  {
   "cell_type": "code",
   "execution_count": 9,
   "metadata": {},
   "outputs": [
    {
     "data": {
      "text/plain": [
       "'This is line 2\\n'"
      ]
     },
     "execution_count": 9,
     "metadata": {},
     "output_type": "execute_result"
    }
   ],
   "source": [
    "# Print the second line\n",
    "\n",
    "FileasList[1]"
   ]
  },
  {
   "cell_type": "code",
   "execution_count": 10,
   "metadata": {
    "scrolled": true
   },
   "outputs": [
    {
     "data": {
      "text/plain": [
       "'This is line 3'"
      ]
     },
     "execution_count": 10,
     "metadata": {},
     "output_type": "execute_result"
    }
   ],
   "source": [
    "# Print the third line\n",
    "\n",
    "FileasList[2]"
   ]
  },
  {
   "cell_type": "markdown",
   "metadata": {},
   "source": [
    "----"
   ]
  },
  {
   "cell_type": "markdown",
   "metadata": {},
   "source": [
    "### 2. Writing FIle "
   ]
  },
  {
   "cell_type": "markdown",
   "metadata": {},
   "source": [
    "Membuka file menggunakan operasi ```open()``` dengan mode **w**. Kemudian untuk menulisnya gunakan method ```write()```."
   ]
  },
  {
   "cell_type": "code",
   "execution_count": 11,
   "metadata": {},
   "outputs": [],
   "source": [
    "# Membuka dan menulis pada file kosong\n",
    "\n",
    "with open('data/example2.txt', 'w') as writefile:\n",
    "    writefile.write(\"This is line A\\n\")"
   ]
  },
  {
   "cell_type": "code",
   "execution_count": 12,
   "metadata": {},
   "outputs": [
    {
     "name": "stdout",
     "output_type": "stream",
     "text": [
      "This is line A\n",
      "\n"
     ]
    }
   ],
   "source": [
    "# membaca file\n",
    "\n",
    "with open('data/example2.txt', 'r') as testwritefile:\n",
    "    print(testwritefile.read())"
   ]
  },
  {
   "cell_type": "code",
   "execution_count": 13,
   "metadata": {},
   "outputs": [],
   "source": [
    "# Menambahkan baris baru atau sama dengan append\n",
    "\n",
    "with open('data/example2.txt', 'a') as testwritefile:\n",
    "    testwritefile.write(\"This is line B\\n\")"
   ]
  },
  {
   "cell_type": "code",
   "execution_count": 14,
   "metadata": {
    "scrolled": true
   },
   "outputs": [
    {
     "name": "stdout",
     "output_type": "stream",
     "text": [
      "This is line A\n",
      "This is line B\n",
      "\n"
     ]
    }
   ],
   "source": [
    "#membaca file\n",
    "\n",
    "with open('data/example2.txt', 'r') as testwritefile:\n",
    "    print(testwritefile.read())"
   ]
  },
  {
   "cell_type": "markdown",
   "metadata": {},
   "source": [
    "Berikut ilustrasi dalam penulisannya:\n",
    "\n",
    "<img src=\"img/WriteLine.png\" width=\"500\" />"
   ]
  },
  {
   "cell_type": "markdown",
   "metadata": {},
   "source": [
    "**Menambahkan beberapa baris dengan struktur data list**"
   ]
  },
  {
   "cell_type": "markdown",
   "metadata": {},
   "source": [
    "Kita juga dapat menulis beberapa baris sekaligus menggunakan struktur data list menggunakan <code>for</code> loop."
   ]
  },
  {
   "cell_type": "code",
   "execution_count": 17,
   "metadata": {},
   "outputs": [
    {
     "data": {
      "text/plain": [
       "['This is line A\\n', 'This is line B\\n', 'This is line C\\n']"
      ]
     },
     "execution_count": 17,
     "metadata": {},
     "output_type": "execute_result"
    }
   ],
   "source": [
    "# Contoh list\n",
    "\n",
    "Lines = [\"This is line A\\n\", \"This is line B\\n\", \"This is line C\\n\"]\n",
    "Lines"
   ]
  },
  {
   "cell_type": "code",
   "execution_count": 18,
   "metadata": {},
   "outputs": [
    {
     "name": "stdout",
     "output_type": "stream",
     "text": [
      "This is line A\n",
      "\n",
      "This is line B\n",
      "\n",
      "This is line C\n",
      "\n"
     ]
    }
   ],
   "source": [
    "# Menulis list string pada file\n",
    "\n",
    "with open('data/example2.txt', 'w') as writefile:\n",
    "    for line in Lines:\n",
    "        print(line)\n",
    "        writefile.write(line)"
   ]
  },
  {
   "cell_type": "markdown",
   "metadata": {},
   "source": [
    "Mengecek file yang telah ditulis sebelumnya apakah berhasil atau tidak menggunakan <code>testwritefile</code>."
   ]
  },
  {
   "cell_type": "code",
   "execution_count": 20,
   "metadata": {
    "scrolled": true
   },
   "outputs": [
    {
     "name": "stdout",
     "output_type": "stream",
     "text": [
      "This is line A\n",
      "This is line B\n",
      "This is line C\n",
      "\n"
     ]
    }
   ],
   "source": [
    "with open('data/example2.txt', 'r') as testwritefile:\n",
    "    print(testwritefile.read())"
   ]
  },
  {
   "cell_type": "markdown",
   "metadata": {},
   "source": [
    "----"
   ]
  },
  {
   "cell_type": "markdown",
   "metadata": {},
   "source": [
    "### 3. Copy File"
   ]
  },
  {
   "cell_type": "code",
   "execution_count": 22,
   "metadata": {},
   "outputs": [],
   "source": [
    "#copy file ke file baru\n",
    "\n",
    "with open('data/example2.txt','r') as readfile:\n",
    "    with open('data/example3.txt','w') as writefile:\n",
    "          for line in readfile:\n",
    "                writefile.write(line)"
   ]
  },
  {
   "cell_type": "markdown",
   "metadata": {},
   "source": [
    "Mengecek file yang telah ditulis sebelumnya apakah berhasil atau tidak menggunakan <code>testwritefile</code>."
   ]
  },
  {
   "cell_type": "code",
   "execution_count": 23,
   "metadata": {
    "scrolled": true
   },
   "outputs": [
    {
     "name": "stdout",
     "output_type": "stream",
     "text": [
      "This is line A\n",
      "This is line B\n",
      "This is line C\n",
      "\n"
     ]
    }
   ],
   "source": [
    "with open('data/example3.txt','r') as testwritefile:\n",
    "    print(testwritefile.read())"
   ]
  },
  {
   "cell_type": "markdown",
   "metadata": {},
   "source": [
    "----"
   ]
  },
  {
   "cell_type": "markdown",
   "metadata": {},
   "source": [
    "Semoga Bermanfaat :)\n",
    "\n",
    "Terimakasih"
   ]
  },
  {
   "cell_type": "markdown",
   "metadata": {},
   "source": [
    "----"
   ]
  }
 ],
 "metadata": {
  "kernelspec": {
   "display_name": "Python 3",
   "language": "python",
   "name": "python3"
  },
  "language_info": {
   "codemirror_mode": {
    "name": "ipython",
    "version": 3
   },
   "file_extension": ".py",
   "mimetype": "text/x-python",
   "name": "python",
   "nbconvert_exporter": "python",
   "pygments_lexer": "ipython3",
   "version": "3.7.3"
  }
 },
 "nbformat": 4,
 "nbformat_minor": 2
}
