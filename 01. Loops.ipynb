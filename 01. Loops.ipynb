{
 "cells": [
  {
   "cell_type": "markdown",
   "metadata": {},
   "source": [
    "# ====================================================\n",
    "# Tools pada Python\n",
    "# ====================================================="
   ]
  },
  {
   "cell_type": "markdown",
   "metadata": {},
   "source": [
    "<h2>Daftar Isi</h2>\n",
    "<div class=\"alert alert-block alert-info\" style=\"margin-top: 20px\">\n",
    "    <ul>\n",
    "        <li>\n",
    "            <a href=\"#loop\">Loops</a>\n",
    "            <ul>\n",
    "                <li><a href=\"range\">Range</a></li>\n",
    "                <li><a href=\"for\">What is <code>for</code> loop?</a></li>\n",
    "                <li><a href=\"while\">What is <code>while</code> loop?</a></li>\n",
    "            </ul>\n",
    "        </li>\n",
    "    </ul>\n",
    "</div>\n",
    "\n",
    "<hr>"
   ]
  },
  {
   "cell_type": "markdown",
   "metadata": {},
   "source": [
    "## ======================================\n",
    "\n",
    "# Loops \n",
    "\n",
    "## ======================================"
   ]
  },
  {
   "cell_type": "markdown",
   "metadata": {},
   "source": [
    "Loops adalah tools pada Python yang tujuannya untuk melakukan perintah yang sama secara berulang-ulang."
   ]
  },
  {
   "cell_type": "markdown",
   "metadata": {},
   "source": [
    "### 1. Range "
   ]
  },
  {
   "cell_type": "markdown",
   "metadata": {},
   "source": [
    "Range adalah rentang data. Objek range bersifat *immutable*, berupa angka,dan sangat berguna untuk looping atau iterasi. Range sama seperti tuples, tetapi range penulisannya banyak cara dan tidak mendukung penambahan atau pengulangan seperti tuple.\n",
    "\n",
    "Range pada Python dapat ditulis dengan cara <code>range()</code>. Ada 3 bentuk penulisannya, yaitu:\n",
    "- range(n)\n",
    "- range(m, n)\n",
    "- range(m, n, o)"
   ]
  },
  {
   "cell_type": "markdown",
   "metadata": {},
   "source": [
    "**range(n)**"
   ]
  },
  {
   "cell_type": "markdown",
   "metadata": {},
   "source": [
    "<code>range(n)</code> adalah pengambilan rentang data yang dimulai dari nol dan berakhir pada n-1. Panjang data dari <code>range(n)</code> sebanyak n. \n",
    "\n",
    "<code>range(n)</code> = <code>[0, 1, 2, ..., n-1]</code>\n",
    "\n",
    "n adalah angka  dengan tipe data integer, dimana n merupakan letak kita akan berhenti mengambil rentang. Nilai n harus bernilai positif. Jika n bernilai negatif maka yang akan dihasilkan adalah kosong."
   ]
  },
  {
   "cell_type": "code",
   "execution_count": 4,
   "metadata": {
    "scrolled": true
   },
   "outputs": [
    {
     "data": {
      "text/plain": [
       "range(0, 5)"
      ]
     },
     "execution_count": 4,
     "metadata": {},
     "output_type": "execute_result"
    }
   ],
   "source": [
    "# range dengan 1 parameter (parameter n) dimulai dari 0 dan berakhir pada n-1\n",
    "# range(5) akan mulai dari 0 dan berhenti pada nilai (5 - 1 = 4).\n",
    "range(5)"
   ]
  },
  {
   "cell_type": "code",
   "execution_count": 5,
   "metadata": {},
   "outputs": [
    {
     "data": {
      "text/plain": [
       "5"
      ]
     },
     "execution_count": 5,
     "metadata": {},
     "output_type": "execute_result"
    }
   ],
   "source": [
    "# panjang datanya adalah 5.\n",
    "len(range(0, 5))"
   ]
  },
  {
   "cell_type": "code",
   "execution_count": 6,
   "metadata": {
    "scrolled": true
   },
   "outputs": [
    {
     "data": {
      "text/plain": [
       "[0, 1, 2, 3, 4]"
      ]
     },
     "execution_count": 6,
     "metadata": {},
     "output_type": "execute_result"
    }
   ],
   "source": [
    "# list untuk menomerasi, mengeluarkan isinya\n",
    "# hal ini berguna untuk looping\n",
    "list(range(5))"
   ]
  },
  {
   "cell_type": "markdown",
   "metadata": {},
   "source": [
    "**range(m, n)**"
   ]
  },
  {
   "cell_type": "markdown",
   "metadata": {},
   "source": [
    "<code>range(m, n)</code> adalah pengambilan rentang data yang dimulai dari m dan berakhir pada n-1. Panjang data dari <code>range(m, n)</code> sebanyak m - n. \n",
    "\n",
    "<code>range(m, n)</code> = <code>[m, m + 1, m + 2, ..., n-1]</code>\n",
    "\n",
    "m adalah angka dengan tipe data integer, dimana m merupakan letak kita memulai mengambil rentang. Sedangkan n sama seperti penjelasan sebelumnya sebagai nilai berhenti mengambil rentang. Nilai m lebih kecil dari n, jika sebaliknya hasilnya akan kosong."
   ]
  },
  {
   "cell_type": "code",
   "execution_count": 7,
   "metadata": {
    "scrolled": true
   },
   "outputs": [
    {
     "data": {
      "text/plain": [
       "range(2, 5)"
      ]
     },
     "execution_count": 7,
     "metadata": {},
     "output_type": "execute_result"
    }
   ],
   "source": [
    "# range bisa fleksibel, dengan 2 parameter bisa menentukan nilai awal dan berakhir n-1\n",
    "# range(2, 5) akan mulai dari 2 dan berhenti pada nilai (5 - 1 = 4).\n",
    "range(2, 5)"
   ]
  },
  {
   "cell_type": "code",
   "execution_count": 8,
   "metadata": {},
   "outputs": [
    {
     "data": {
      "text/plain": [
       "3"
      ]
     },
     "execution_count": 8,
     "metadata": {},
     "output_type": "execute_result"
    }
   ],
   "source": [
    "# panjang datanya adalah (5 - 2 = 3).\n",
    "len(range(2, 5))"
   ]
  },
  {
   "cell_type": "code",
   "execution_count": 9,
   "metadata": {
    "scrolled": true
   },
   "outputs": [
    {
     "data": {
      "text/plain": [
       "[2, 3, 4]"
      ]
     },
     "execution_count": 9,
     "metadata": {},
     "output_type": "execute_result"
    }
   ],
   "source": [
    "# list untuk menomerasi, mengeluarkan isinya\n",
    "# hal ini berguna untuk looping\n",
    "list(range(2, 5))"
   ]
  },
  {
   "cell_type": "markdown",
   "metadata": {},
   "source": [
    "Nilai m tidak selalu positif, tetapi bisa juga negati."
   ]
  },
  {
   "cell_type": "code",
   "execution_count": 14,
   "metadata": {
    "scrolled": true
   },
   "outputs": [
    {
     "data": {
      "text/plain": [
       "range(-4, 5)"
      ]
     },
     "execution_count": 14,
     "metadata": {},
     "output_type": "execute_result"
    }
   ],
   "source": [
    "range(-4, 5)"
   ]
  },
  {
   "cell_type": "code",
   "execution_count": 16,
   "metadata": {},
   "outputs": [
    {
     "data": {
      "text/plain": [
       "9"
      ]
     },
     "execution_count": 16,
     "metadata": {},
     "output_type": "execute_result"
    }
   ],
   "source": [
    "# panjang datanya adalah (5 - (-4) = 9).\n",
    "len(range(-4, 5))"
   ]
  },
  {
   "cell_type": "code",
   "execution_count": 17,
   "metadata": {},
   "outputs": [
    {
     "data": {
      "text/plain": [
       "[-4, -3, -2, -1, 0, 1, 2, 3, 4]"
      ]
     },
     "execution_count": 17,
     "metadata": {},
     "output_type": "execute_result"
    }
   ],
   "source": [
    "list(range(-4, 5))"
   ]
  },
  {
   "cell_type": "markdown",
   "metadata": {},
   "source": [
    "**range(m, n, o)**"
   ]
  },
  {
   "cell_type": "markdown",
   "metadata": {},
   "source": [
    "<code>range(m, n, o)</code> adalah pengambilan rentang data yang dimulai dari m dan berakhir pada n-1 dengan lompatan sebanyak o. Panjang data dari <code>range(m, n, o)</code> sebanyak (|m - n|)/o. \n",
    "\n",
    "<code>range(m, n, o)</code> = <code>[m, m + o, m + 2*o, ..., m + k*o]</code>, k merupakan panjang data range (m, n, o)\n",
    "\n",
    "m dan n sama seperti penjelasan sebelumnya sebagai nilai awal dan berhenti mengambil rentang. Sedangkan o adalah nilai lompatan yang bernilai tidak nol. Nilai o lebih besar dari nol maka m harus lebih kecil dari n. Sebaliknya nilai o lebih kecil dari nol maka m harus lebih besar dari n. Jika tidak memenuhi syarat tersebut hasilnya akan kosong."
   ]
  },
  {
   "cell_type": "code",
   "execution_count": 11,
   "metadata": {
    "scrolled": true
   },
   "outputs": [
    {
     "data": {
      "text/plain": [
       "range(2, 10, 2)"
      ]
     },
     "execution_count": 11,
     "metadata": {},
     "output_type": "execute_result"
    }
   ],
   "source": [
    "# dengan 3 parameter bisa menentukan nilai awal m dan berakhir pada n-1, selanjutnya lompatan yang ditentukan yaitu o lompatan\n",
    "# range(2, 10, 2) akan mulai dari 2 dan berhenti pada nilai (10 - 1 = 9), dengan 2 lompatan.\n",
    "range(2, 10, 2)"
   ]
  },
  {
   "cell_type": "code",
   "execution_count": 12,
   "metadata": {},
   "outputs": [
    {
     "data": {
      "text/plain": [
       "4"
      ]
     },
     "execution_count": 12,
     "metadata": {},
     "output_type": "execute_result"
    }
   ],
   "source": [
    "# panjang datanya adalah ((10 - 2)/2) = 4).\n",
    "len(range(2, 10, 2))"
   ]
  },
  {
   "cell_type": "code",
   "execution_count": 13,
   "metadata": {
    "scrolled": false
   },
   "outputs": [
    {
     "data": {
      "text/plain": [
       "[2, 4, 6, 8]"
      ]
     },
     "execution_count": 13,
     "metadata": {},
     "output_type": "execute_result"
    }
   ],
   "source": [
    "# list untuk menomerasi, mengeluarkan isinya\n",
    "# hal ini berguna untuk looping\n",
    "list(range(2, 10, 2))"
   ]
  },
  {
   "cell_type": "markdown",
   "metadata": {},
   "source": [
    "Nilai m dan o tidak selalu positif, tetapi bisa juga bernilai negatif."
   ]
  },
  {
   "cell_type": "code",
   "execution_count": 21,
   "metadata": {
    "scrolled": true
   },
   "outputs": [
    {
     "data": {
      "text/plain": [
       "[-4, -2, 0, 2, 4]"
      ]
     },
     "execution_count": 21,
     "metadata": {},
     "output_type": "execute_result"
    }
   ],
   "source": [
    "# jika o > 0, maka m < n\n",
    "list(range(-4, 5, 2))"
   ]
  },
  {
   "cell_type": "code",
   "execution_count": 25,
   "metadata": {
    "scrolled": true
   },
   "outputs": [
    {
     "data": {
      "text/plain": [
       "[5, 3]"
      ]
     },
     "execution_count": 25,
     "metadata": {},
     "output_type": "execute_result"
    }
   ],
   "source": [
    "# jika o < 0, maka m > n\n",
    "list(range(5, 2, -2))"
   ]
  },
  {
   "cell_type": "code",
   "execution_count": 23,
   "metadata": {},
   "outputs": [
    {
     "data": {
      "text/plain": [
       "[4, 2, 0, -2, -4]"
      ]
     },
     "execution_count": 23,
     "metadata": {},
     "output_type": "execute_result"
    }
   ],
   "source": [
    "# jika o > 0, maka m < n\n",
    "list(range(4, -5, -2))"
   ]
  },
  {
   "cell_type": "markdown",
   "metadata": {},
   "source": [
    "<hr/>\n",
    "<div class=\"alert alert-success alertsuccess\" style=\"margin-top: 20px\">\n",
    "    Lebih banyak method mengenai branching dan conditions, dapat dilihat di link berikut :\n",
    "https://docs.python.org/3/library/stdtypes.html#range\n",
    "</div>\n",
    "<hr/>"
   ]
  },
  {
   "cell_type": "markdown",
   "metadata": {},
   "source": [
    "### 2. For statements "
   ]
  },
  {
   "cell_type": "markdown",
   "metadata": {},
   "source": [
    "<code>for</code> loop memungkinkan untuk menjalankan perintah berulang satu persatu secara menyeluruh.\n",
    "\n",
    "Cara membuat <code>for</code> loop:\n",
    "- coret-coret kemungkinan pengulangannya\n",
    "- Lihat karakteristiknya\n",
    "- hati-hati bermain perintahnya"
   ]
  },
  {
   "cell_type": "markdown",
   "metadata": {},
   "source": [
    "<img src=\"img/loop-for.GIF\" width=\"800\" />"
   ]
  },
  {
   "cell_type": "code",
   "execution_count": 5,
   "metadata": {
    "scrolled": true
   },
   "outputs": [
    {
     "name": "stdout",
     "output_type": "stream",
     "text": [
      "['black', 'black', 'black', 'black', 'black']\n"
     ]
    }
   ],
   "source": [
    "colors = [\"red\", \"orange\", \"green\", \"purple\", \"blue\"]\n",
    "\n",
    "for i in range(0, 5):\n",
    "    colors[i] = \"black\"\n",
    "    \n",
    "print(colors)"
   ]
  },
  {
   "cell_type": "markdown",
   "metadata": {},
   "source": [
    "<img src=\"img/loop-for2.GIF\" width=\"800\" />"
   ]
  },
  {
   "cell_type": "code",
   "execution_count": 6,
   "metadata": {},
   "outputs": [
    {
     "name": "stdout",
     "output_type": "stream",
     "text": [
      "['black', 'orange', 'black', 'purple', 'black']\n"
     ]
    }
   ],
   "source": [
    "colors = [\"red\", \"orange\", \"green\", \"purple\", \"blue\"]\n",
    "\n",
    "for i in range(0,5,2):\n",
    "    colors[i] = \"black\"\n",
    "    \n",
    "print(colors)"
   ]
  },
  {
   "cell_type": "code",
   "execution_count": 27,
   "metadata": {},
   "outputs": [
    {
     "name": "stdout",
     "output_type": "stream",
     "text": [
      "['red', 'black', 'green', 'black', 'blue']\n"
     ]
    }
   ],
   "source": [
    "colors = [\"red\", \"orange\", \"green\", \"purple\", \"blue\"]\n",
    "\n",
    "for i in range(1,5,2):\n",
    "    colors[i] = \"black\"\n",
    "    \n",
    "print(colors)"
   ]
  },
  {
   "cell_type": "code",
   "execution_count": 28,
   "metadata": {
    "scrolled": true
   },
   "outputs": [
    {
     "name": "stdout",
     "output_type": "stream",
     "text": [
      "['red', 'orange', 'green', 'purple', 'blue']\n"
     ]
    }
   ],
   "source": [
    "colors = [\"red\", \"orange\", \"green\", \"purple\", \"blue\"]\n",
    "\n",
    "for i in range(0):\n",
    "    colors[i] = \"black\"\n",
    "    \n",
    "print(colors)"
   ]
  },
  {
   "cell_type": "markdown",
   "metadata": {},
   "source": [
    "Selain menggunakan <code>range()</code> untuk membantu looping, bisa juga menggunakan <code>len()</code>. Dengan menggunakan <code>len()</code> bisa lebih general, tetapi tidak bisa melakukan lompatan."
   ]
  },
  {
   "cell_type": "code",
   "execution_count": 31,
   "metadata": {},
   "outputs": [
    {
     "data": {
      "text/plain": [
       "5"
      ]
     },
     "execution_count": 31,
     "metadata": {},
     "output_type": "execute_result"
    }
   ],
   "source": [
    "len(colors)"
   ]
  },
  {
   "cell_type": "code",
   "execution_count": 32,
   "metadata": {},
   "outputs": [
    {
     "name": "stdout",
     "output_type": "stream",
     "text": [
      "['black', 'black', 'black', 'black', 'black']\n"
     ]
    }
   ],
   "source": [
    "#ini bisa untuk general jila colors bertambah\n",
    "\n",
    "colors = [\"red\", \"orange\", \"green\", \"purple\", \"blue\"]\n",
    "\n",
    "for i in range(len(colors)):\n",
    "    colors[i] = \"black\"\n",
    "    \n",
    "print(colors)"
   ]
  },
  {
   "cell_type": "markdown",
   "metadata": {},
   "source": [
    "<img src=\"img/loop-for3.GIF\" width=\"800\" />"
   ]
  },
  {
   "cell_type": "code",
   "execution_count": 11,
   "metadata": {
    "scrolled": true
   },
   "outputs": [
    {
     "name": "stdout",
     "output_type": "stream",
     "text": [
      "RED\n",
      "ORANGE\n",
      "GREEN\n",
      "PURPLE\n",
      "BLUE\n"
     ]
    }
   ],
   "source": [
    "#color list dari colors yang ingin di upper\n",
    "\n",
    "colors = [\"red\", \"orange\", \"green\", \"purple\", \"blue\"]\n",
    "\n",
    "for color in colors:\n",
    "    print(color.upper())"
   ]
  },
  {
   "cell_type": "markdown",
   "metadata": {},
   "source": [
    "Jika kita ingin memunculkan sekaligus dengan indexnya, kita dapat menggunakan <code>enumerate()</code>. <code>enumerate()</code> adalah rincian daftar pada suatu variabel yang berbentuk (i, objek). <code>enumerate()</code> akan mengembalikan objek enumeratenya yaitu objek iterable yang tiap itemnya berpasangan dengan indeks."
   ]
  },
  {
   "cell_type": "code",
   "execution_count": 33,
   "metadata": {
    "scrolled": true
   },
   "outputs": [
    {
     "name": "stdout",
     "output_type": "stream",
     "text": [
      "(0, 'red')\n",
      "(1, 'orange')\n",
      "(2, 'green')\n",
      "(3, 'purple')\n",
      "(4, 'blue')\n"
     ]
    }
   ],
   "source": [
    "colors = [\"red\", \"orange\", \"green\", \"purple\", \"blue\"]\n",
    "\n",
    "for color in enumerate(colors):\n",
    "    print(color)"
   ]
  },
  {
   "cell_type": "markdown",
   "metadata": {},
   "source": [
    "Bentuk lain untuk enumerate yaitu:"
   ]
  },
  {
   "cell_type": "code",
   "execution_count": 40,
   "metadata": {
    "scrolled": true
   },
   "outputs": [
    {
     "name": "stdout",
     "output_type": "stream",
     "text": [
      "Color 0 is red\n",
      "Color 1 is orange\n",
      "Color 2 is green\n",
      "Color 3 is purple\n",
      "Color 4 is blue\n"
     ]
    }
   ],
   "source": [
    "colors = [\"red\", \"orange\", \"green\", \"purple\", \"blue\"]\n",
    "\n",
    "for i, color in enumerate(colors): \n",
    "    print(\"Color \" + str(i) + \" is \" + color)"
   ]
  },
  {
   "cell_type": "markdown",
   "metadata": {},
   "source": [
    "<hr/>\n",
    "<div class=\"alert alert-success alertsuccess\" style=\"margin-top: 20px\">\n",
    "    Lebih banyak method mengenai branching dan conditions, dapat dilihat di link berikut :\n",
    "https://docs.python.org/3/reference/compound_stmts.html#the-for-statement\n",
    "</div>\n",
    "<hr/>"
   ]
  },
  {
   "cell_type": "markdown",
   "metadata": {},
   "source": [
    "### 3. While Statements"
   ]
  },
  {
   "cell_type": "markdown",
   "metadata": {},
   "source": [
    "<code>while</code> loop memungkinkan untuk menjalankan perintah berulang satu persatu dengan kondisi tertentu. <code>while</code> akan dijalankan jika kondisi tersebut bernilai **True** dan perintah akan berhenti pada kondisi yang bernilai **False** pertama kali. <code>while</code> bergerak dari data paling kiri. Kondisi ini dinamakan *indifinite iteration*. \n",
    "\n",
    "Ide dari <code>while</code> adalah menggabungkan <code>for</code> dan <code>if</code>."
   ]
  },
  {
   "cell_type": "markdown",
   "metadata": {},
   "source": [
    "Contoh : Akan dicari warna orange pada variabel colors. Hasilnya adalah warna orange pada index 0 dan index 1, kemudian <code>while</code> loop berhenti. Hal ini karena pada index 2 bukan berwarna orange."
   ]
  },
  {
   "cell_type": "code",
   "execution_count": 41,
   "metadata": {},
   "outputs": [
    {
     "name": "stdout",
     "output_type": "stream",
     "text": [
      "['orange', 'orange']\n"
     ]
    }
   ],
   "source": [
    "colors = [\"orange\", \"orange\", \"blue\", \"orange\"]\n",
    "oranges = []                    #oranges awalnya himpunan kosong. \n",
    "i = 0                           #inisialisasi atau nilai awal i = 0\n",
    "\n",
    "while colors[i] == \"orange\":    #selama colors index i sama dengan orange, maka melakukan perintah selanjutnya. Tetapi jika tidak sama dengan orange, langsung berhenti. ini konsep dari while.\n",
    "    oranges.append(colors[i])\n",
    "    i = i + 1                   #untuk move on ke index selanjutnya, karena kalau gaada langkah ini, maka akan berulang di index tersebut.\n",
    "    \n",
    "print(oranges)"
   ]
  },
  {
   "cell_type": "code",
   "execution_count": 15,
   "metadata": {
    "scrolled": true
   },
   "outputs": [
    {
     "name": "stdout",
     "output_type": "stream",
     "text": [
      "['orange', 'orange']\n"
     ]
    }
   ],
   "source": [
    "# bentuk while lainnya\n",
    "colors = [\"orange\", \"orange\", \"blue\", \"orange\"]\n",
    "oranges = []\n",
    "\n",
    "for i, color in enumerate(colors):\n",
    "    if color == \"orange\":\n",
    "        oranges.append(color)\n",
    "    else:\n",
    "        break\n",
    "print(oranges)"
   ]
  },
  {
   "cell_type": "markdown",
   "metadata": {},
   "source": [
    "<code>while</code> adalah gabungan dari <code>for</code> dan <code>if</code>. Berikut contoh jika menggunakan <code>for</code> dan <code>if</code>."
   ]
  },
  {
   "cell_type": "code",
   "execution_count": 43,
   "metadata": {},
   "outputs": [
    {
     "name": "stdout",
     "output_type": "stream",
     "text": [
      "['orange', 'orange']\n"
     ]
    }
   ],
   "source": [
    "colors = [\"orange\", \"orange\", \"blue\", \"orange\"]\n",
    "oranges = []\n",
    "\n",
    "for i in range(len(colors)):       #tidak perlu inisialisasi index, karena perintah for akan mengulang untuk setiap index.\n",
    "    if colors[i] == \"orange\":\n",
    "        oranges.append(colors[i])\n",
    "    else:\n",
    "        break                      #agar keluar dari loop, sehingga perintah if akan berhenti dan lanjut ke perintah selanjutnya. Kalau gapake break, maka akan lanjut ke index berikutnya.\n",
    "                                   #jadi akan berhenti ketika tidak sesuai ketentuan if\n",
    "print(oranges)"
   ]
  },
  {
   "cell_type": "markdown",
   "metadata": {},
   "source": [
    "Jika hasil variabel oranges berisi himpunan kosong, maka perlu dicek kembali <code>for-if</code> loop yang kita buat. Dalam menggunakan <code>for-if</code> loop harus menggunakan else: break agar perintahnya sama dengan <code>while</code>."
   ]
  },
  {
   "cell_type": "markdown",
   "metadata": {},
   "source": [
    "<hr/>\n",
    "<div class=\"alert alert-success alertsuccess\" style=\"margin-top: 20px\">\n",
    "    Lebih banyak method mengenai branching dan conditions, dapat dilihat di link berikut :\n",
    "https://docs.python.org/3/reference/compound_stmts.html#the-while-statement\n",
    "</div>\n",
    "<hr/>"
   ]
  },
  {
   "cell_type": "markdown",
   "metadata": {},
   "source": [
    "Semoga Bermanfaat :)\n",
    "\n",
    "Terimakasih"
   ]
  },
  {
   "cell_type": "markdown",
   "metadata": {},
   "source": [
    "------"
   ]
  }
 ],
 "metadata": {
  "kernelspec": {
   "display_name": "Python 3",
   "language": "python",
   "name": "python3"
  },
  "language_info": {
   "codemirror_mode": {
    "name": "ipython",
    "version": 3
   },
   "file_extension": ".py",
   "mimetype": "text/x-python",
   "name": "python",
   "nbconvert_exporter": "python",
   "pygments_lexer": "ipython3",
   "version": "3.7.3"
  }
 },
 "nbformat": 4,
 "nbformat_minor": 2
}
